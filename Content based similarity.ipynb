{
 "cells": [
  {
   "cell_type": "code",
   "execution_count": 1,
   "metadata": {},
   "outputs": [
    {
     "data": {
      "text/html": [
       "<div>\n",
       "<style scoped>\n",
       "    .dataframe tbody tr th:only-of-type {\n",
       "        vertical-align: middle;\n",
       "    }\n",
       "\n",
       "    .dataframe tbody tr th {\n",
       "        vertical-align: top;\n",
       "    }\n",
       "\n",
       "    .dataframe thead th {\n",
       "        text-align: right;\n",
       "    }\n",
       "</style>\n",
       "<table border=\"1\" class=\"dataframe\">\n",
       "  <thead>\n",
       "    <tr style=\"text-align: right;\">\n",
       "      <th></th>\n",
       "      <th>Mustard Greens, Shrimp, And Anchovy Pasta</th>\n",
       "      <th>Pan Bagnat</th>\n",
       "      <th>Chicken Salad with Green Goddess Dressing</th>\n",
       "      <th>Dad's Caesar Salad</th>\n",
       "      <th>Striped Bass with Toasted-Shallot Vinaigrette and Spinach</th>\n",
       "      <th>Striped Sea Bass With Blood Oranges And Olives</th>\n",
       "      <th>Cedar Plank Grilled Loup De Mer (sea Bass)</th>\n",
       "      <th>Pan-Fried Skate with Brown Butter and Parsnip Puree</th>\n",
       "      <th>Salmon Fillets With Horseradish-potato Crust</th>\n",
       "      <th>Salmon with Fennel and Pernod</th>\n",
       "      <th>...</th>\n",
       "      <th>Shredded Brussels Sprouts with Pistachios, Cranberries &amp; Parmesan</th>\n",
       "      <th>Your New Favourite (Protein Packed) Comfort Dinner – Lentil Bolognese</th>\n",
       "      <th>Lemon Sour Cream Pie</th>\n",
       "      <th>Mango-Jalapeño Smoothie</th>\n",
       "      <th>Our Best Skillet Cookie</th>\n",
       "      <th>Strawberry Upside-Down Cake</th>\n",
       "      <th>Chicken Sausage Scramble</th>\n",
       "      <th>Almond Flour Waffles</th>\n",
       "      <th>Chia Seed Pudding</th>\n",
       "      <th>Chickpea Frittata Breakfast Sandwich</th>\n",
       "    </tr>\n",
       "    <tr>\n",
       "      <th>recipe_name</th>\n",
       "      <th></th>\n",
       "      <th></th>\n",
       "      <th></th>\n",
       "      <th></th>\n",
       "      <th></th>\n",
       "      <th></th>\n",
       "      <th></th>\n",
       "      <th></th>\n",
       "      <th></th>\n",
       "      <th></th>\n",
       "      <th></th>\n",
       "      <th></th>\n",
       "      <th></th>\n",
       "      <th></th>\n",
       "      <th></th>\n",
       "      <th></th>\n",
       "      <th></th>\n",
       "      <th></th>\n",
       "      <th></th>\n",
       "      <th></th>\n",
       "      <th></th>\n",
       "    </tr>\n",
       "  </thead>\n",
       "  <tbody>\n",
       "    <tr>\n",
       "      <th>Mustard Greens, Shrimp, And Anchovy Pasta</th>\n",
       "      <td>0.000000</td>\n",
       "      <td>0.207460</td>\n",
       "      <td>0.521515</td>\n",
       "      <td>0.313502</td>\n",
       "      <td>0.277459</td>\n",
       "      <td>0.000000</td>\n",
       "      <td>0.054675</td>\n",
       "      <td>0.188989</td>\n",
       "      <td>0.166386</td>\n",
       "      <td>0.173073</td>\n",
       "      <td>...</td>\n",
       "      <td>0.079907</td>\n",
       "      <td>0.095776</td>\n",
       "      <td>0.561245</td>\n",
       "      <td>0.063933</td>\n",
       "      <td>0.072998</td>\n",
       "      <td>0.189588</td>\n",
       "      <td>0.076801</td>\n",
       "      <td>0.405027</td>\n",
       "      <td>0.189588</td>\n",
       "      <td>0.563435</td>\n",
       "    </tr>\n",
       "    <tr>\n",
       "      <th>Pan Bagnat</th>\n",
       "      <td>0.207460</td>\n",
       "      <td>0.000000</td>\n",
       "      <td>0.535604</td>\n",
       "      <td>0.357363</td>\n",
       "      <td>0.423443</td>\n",
       "      <td>0.207460</td>\n",
       "      <td>0.128077</td>\n",
       "      <td>0.283974</td>\n",
       "      <td>0.326536</td>\n",
       "      <td>0.275448</td>\n",
       "      <td>...</td>\n",
       "      <td>0.243902</td>\n",
       "      <td>0.210283</td>\n",
       "      <td>0.575944</td>\n",
       "      <td>0.254601</td>\n",
       "      <td>0.208719</td>\n",
       "      <td>0.360917</td>\n",
       "      <td>0.223711</td>\n",
       "      <td>0.457970</td>\n",
       "      <td>0.360917</td>\n",
       "      <td>0.636828</td>\n",
       "    </tr>\n",
       "    <tr>\n",
       "      <th>Chicken Salad with Green Goddess Dressing</th>\n",
       "      <td>0.521515</td>\n",
       "      <td>0.535604</td>\n",
       "      <td>0.000000</td>\n",
       "      <td>0.636606</td>\n",
       "      <td>0.495974</td>\n",
       "      <td>0.521515</td>\n",
       "      <td>0.458702</td>\n",
       "      <td>0.592452</td>\n",
       "      <td>0.537625</td>\n",
       "      <td>0.483703</td>\n",
       "      <td>...</td>\n",
       "      <td>0.489586</td>\n",
       "      <td>0.440025</td>\n",
       "      <td>0.772239</td>\n",
       "      <td>0.467877</td>\n",
       "      <td>0.537907</td>\n",
       "      <td>0.596815</td>\n",
       "      <td>0.485160</td>\n",
       "      <td>0.676934</td>\n",
       "      <td>0.596815</td>\n",
       "      <td>0.831359</td>\n",
       "    </tr>\n",
       "    <tr>\n",
       "      <th>Dad's Caesar Salad</th>\n",
       "      <td>0.313502</td>\n",
       "      <td>0.357363</td>\n",
       "      <td>0.636606</td>\n",
       "      <td>0.000000</td>\n",
       "      <td>0.558128</td>\n",
       "      <td>0.313502</td>\n",
       "      <td>0.294512</td>\n",
       "      <td>0.487653</td>\n",
       "      <td>0.466902</td>\n",
       "      <td>0.486226</td>\n",
       "      <td>...</td>\n",
       "      <td>0.370674</td>\n",
       "      <td>0.367132</td>\n",
       "      <td>0.697952</td>\n",
       "      <td>0.396898</td>\n",
       "      <td>0.398625</td>\n",
       "      <td>0.544243</td>\n",
       "      <td>0.374489</td>\n",
       "      <td>0.644482</td>\n",
       "      <td>0.544243</td>\n",
       "      <td>0.592949</td>\n",
       "    </tr>\n",
       "    <tr>\n",
       "      <th>Striped Bass with Toasted-Shallot Vinaigrette and Spinach</th>\n",
       "      <td>0.277459</td>\n",
       "      <td>0.423443</td>\n",
       "      <td>0.495974</td>\n",
       "      <td>0.558128</td>\n",
       "      <td>0.000000</td>\n",
       "      <td>0.277459</td>\n",
       "      <td>0.299038</td>\n",
       "      <td>0.369908</td>\n",
       "      <td>0.336091</td>\n",
       "      <td>0.404798</td>\n",
       "      <td>...</td>\n",
       "      <td>0.321194</td>\n",
       "      <td>0.251139</td>\n",
       "      <td>0.671429</td>\n",
       "      <td>0.262343</td>\n",
       "      <td>0.336426</td>\n",
       "      <td>0.431404</td>\n",
       "      <td>0.279712</td>\n",
       "      <td>0.539177</td>\n",
       "      <td>0.431404</td>\n",
       "      <td>0.647556</td>\n",
       "    </tr>\n",
       "  </tbody>\n",
       "</table>\n",
       "<p>5 rows × 3389 columns</p>\n",
       "</div>"
      ],
      "text/plain": [
       "                                                    Mustard Greens, Shrimp, And Anchovy Pasta  \\\n",
       "recipe_name                                                                                     \n",
       "Mustard Greens, Shrimp, And Anchovy Pasta                                            0.000000   \n",
       "Pan Bagnat                                                                           0.207460   \n",
       "Chicken Salad with Green Goddess Dressing                                            0.521515   \n",
       "Dad's Caesar Salad                                                                   0.313502   \n",
       "Striped Bass with Toasted-Shallot Vinaigrette a...                                   0.277459   \n",
       "\n",
       "                                                    Pan Bagnat  \\\n",
       "recipe_name                                                      \n",
       "Mustard Greens, Shrimp, And Anchovy Pasta             0.207460   \n",
       "Pan Bagnat                                            0.000000   \n",
       "Chicken Salad with Green Goddess Dressing             0.535604   \n",
       "Dad's Caesar Salad                                    0.357363   \n",
       "Striped Bass with Toasted-Shallot Vinaigrette a...    0.423443   \n",
       "\n",
       "                                                    Chicken Salad with Green Goddess Dressing  \\\n",
       "recipe_name                                                                                     \n",
       "Mustard Greens, Shrimp, And Anchovy Pasta                                            0.521515   \n",
       "Pan Bagnat                                                                           0.535604   \n",
       "Chicken Salad with Green Goddess Dressing                                            0.000000   \n",
       "Dad's Caesar Salad                                                                   0.636606   \n",
       "Striped Bass with Toasted-Shallot Vinaigrette a...                                   0.495974   \n",
       "\n",
       "                                                    Dad's Caesar Salad  \\\n",
       "recipe_name                                                              \n",
       "Mustard Greens, Shrimp, And Anchovy Pasta                     0.313502   \n",
       "Pan Bagnat                                                    0.357363   \n",
       "Chicken Salad with Green Goddess Dressing                     0.636606   \n",
       "Dad's Caesar Salad                                            0.000000   \n",
       "Striped Bass with Toasted-Shallot Vinaigrette a...            0.558128   \n",
       "\n",
       "                                                    Striped Bass with Toasted-Shallot Vinaigrette and Spinach  \\\n",
       "recipe_name                                                                                                     \n",
       "Mustard Greens, Shrimp, And Anchovy Pasta                                                    0.277459           \n",
       "Pan Bagnat                                                                                   0.423443           \n",
       "Chicken Salad with Green Goddess Dressing                                                    0.495974           \n",
       "Dad's Caesar Salad                                                                           0.558128           \n",
       "Striped Bass with Toasted-Shallot Vinaigrette a...                                           0.000000           \n",
       "\n",
       "                                                    Striped Sea Bass With Blood Oranges And Olives  \\\n",
       "recipe_name                                                                                          \n",
       "Mustard Greens, Shrimp, And Anchovy Pasta                                                 0.000000   \n",
       "Pan Bagnat                                                                                0.207460   \n",
       "Chicken Salad with Green Goddess Dressing                                                 0.521515   \n",
       "Dad's Caesar Salad                                                                        0.313502   \n",
       "Striped Bass with Toasted-Shallot Vinaigrette a...                                        0.277459   \n",
       "\n",
       "                                                    Cedar Plank Grilled Loup De Mer (sea Bass)  \\\n",
       "recipe_name                                                                                      \n",
       "Mustard Greens, Shrimp, And Anchovy Pasta                                             0.054675   \n",
       "Pan Bagnat                                                                            0.128077   \n",
       "Chicken Salad with Green Goddess Dressing                                             0.458702   \n",
       "Dad's Caesar Salad                                                                    0.294512   \n",
       "Striped Bass with Toasted-Shallot Vinaigrette a...                                    0.299038   \n",
       "\n",
       "                                                    Pan-Fried Skate with Brown Butter and Parsnip Puree  \\\n",
       "recipe_name                                                                                               \n",
       "Mustard Greens, Shrimp, And Anchovy Pasta                                                    0.188989     \n",
       "Pan Bagnat                                                                                   0.283974     \n",
       "Chicken Salad with Green Goddess Dressing                                                    0.592452     \n",
       "Dad's Caesar Salad                                                                           0.487653     \n",
       "Striped Bass with Toasted-Shallot Vinaigrette a...                                           0.369908     \n",
       "\n",
       "                                                    Salmon Fillets With Horseradish-potato Crust  \\\n",
       "recipe_name                                                                                        \n",
       "Mustard Greens, Shrimp, And Anchovy Pasta                                               0.166386   \n",
       "Pan Bagnat                                                                              0.326536   \n",
       "Chicken Salad with Green Goddess Dressing                                               0.537625   \n",
       "Dad's Caesar Salad                                                                      0.466902   \n",
       "Striped Bass with Toasted-Shallot Vinaigrette a...                                      0.336091   \n",
       "\n",
       "                                                    Salmon with Fennel and Pernod  \\\n",
       "recipe_name                                                                         \n",
       "Mustard Greens, Shrimp, And Anchovy Pasta                                0.173073   \n",
       "Pan Bagnat                                                               0.275448   \n",
       "Chicken Salad with Green Goddess Dressing                                0.483703   \n",
       "Dad's Caesar Salad                                                       0.486226   \n",
       "Striped Bass with Toasted-Shallot Vinaigrette a...                       0.404798   \n",
       "\n",
       "                                                    ...  \\\n",
       "recipe_name                                         ...   \n",
       "Mustard Greens, Shrimp, And Anchovy Pasta           ...   \n",
       "Pan Bagnat                                          ...   \n",
       "Chicken Salad with Green Goddess Dressing           ...   \n",
       "Dad's Caesar Salad                                  ...   \n",
       "Striped Bass with Toasted-Shallot Vinaigrette a...  ...   \n",
       "\n",
       "                                                    Shredded Brussels Sprouts with Pistachios, Cranberries & Parmesan  \\\n",
       "recipe_name                                                                                                             \n",
       "Mustard Greens, Shrimp, And Anchovy Pasta                                                    0.079907                   \n",
       "Pan Bagnat                                                                                   0.243902                   \n",
       "Chicken Salad with Green Goddess Dressing                                                    0.489586                   \n",
       "Dad's Caesar Salad                                                                           0.370674                   \n",
       "Striped Bass with Toasted-Shallot Vinaigrette a...                                           0.321194                   \n",
       "\n",
       "                                                    Your New Favourite (Protein Packed) Comfort Dinner – Lentil Bolognese  \\\n",
       "recipe_name                                                                                                                 \n",
       "Mustard Greens, Shrimp, And Anchovy Pasta                                                    0.095776                       \n",
       "Pan Bagnat                                                                                   0.210283                       \n",
       "Chicken Salad with Green Goddess Dressing                                                    0.440025                       \n",
       "Dad's Caesar Salad                                                                           0.367132                       \n",
       "Striped Bass with Toasted-Shallot Vinaigrette a...                                           0.251139                       \n",
       "\n",
       "                                                    Lemon Sour Cream Pie  \\\n",
       "recipe_name                                                                \n",
       "Mustard Greens, Shrimp, And Anchovy Pasta                       0.561245   \n",
       "Pan Bagnat                                                      0.575944   \n",
       "Chicken Salad with Green Goddess Dressing                       0.772239   \n",
       "Dad's Caesar Salad                                              0.697952   \n",
       "Striped Bass with Toasted-Shallot Vinaigrette a...              0.671429   \n",
       "\n",
       "                                                    Mango-Jalapeño Smoothie  \\\n",
       "recipe_name                                                                   \n",
       "Mustard Greens, Shrimp, And Anchovy Pasta                          0.063933   \n",
       "Pan Bagnat                                                         0.254601   \n",
       "Chicken Salad with Green Goddess Dressing                          0.467877   \n",
       "Dad's Caesar Salad                                                 0.396898   \n",
       "Striped Bass with Toasted-Shallot Vinaigrette a...                 0.262343   \n",
       "\n",
       "                                                    Our Best Skillet Cookie  \\\n",
       "recipe_name                                                                   \n",
       "Mustard Greens, Shrimp, And Anchovy Pasta                          0.072998   \n",
       "Pan Bagnat                                                         0.208719   \n",
       "Chicken Salad with Green Goddess Dressing                          0.537907   \n",
       "Dad's Caesar Salad                                                 0.398625   \n",
       "Striped Bass with Toasted-Shallot Vinaigrette a...                 0.336426   \n",
       "\n",
       "                                                    Strawberry Upside-Down Cake  \\\n",
       "recipe_name                                                                       \n",
       "Mustard Greens, Shrimp, And Anchovy Pasta                              0.189588   \n",
       "Pan Bagnat                                                             0.360917   \n",
       "Chicken Salad with Green Goddess Dressing                              0.596815   \n",
       "Dad's Caesar Salad                                                     0.544243   \n",
       "Striped Bass with Toasted-Shallot Vinaigrette a...                     0.431404   \n",
       "\n",
       "                                                    Chicken Sausage Scramble  \\\n",
       "recipe_name                                                                    \n",
       "Mustard Greens, Shrimp, And Anchovy Pasta                           0.076801   \n",
       "Pan Bagnat                                                          0.223711   \n",
       "Chicken Salad with Green Goddess Dressing                           0.485160   \n",
       "Dad's Caesar Salad                                                  0.374489   \n",
       "Striped Bass with Toasted-Shallot Vinaigrette a...                  0.279712   \n",
       "\n",
       "                                                    Almond Flour Waffles  \\\n",
       "recipe_name                                                                \n",
       "Mustard Greens, Shrimp, And Anchovy Pasta                       0.405027   \n",
       "Pan Bagnat                                                      0.457970   \n",
       "Chicken Salad with Green Goddess Dressing                       0.676934   \n",
       "Dad's Caesar Salad                                              0.644482   \n",
       "Striped Bass with Toasted-Shallot Vinaigrette a...              0.539177   \n",
       "\n",
       "                                                    Chia Seed Pudding  \\\n",
       "recipe_name                                                             \n",
       "Mustard Greens, Shrimp, And Anchovy Pasta                    0.189588   \n",
       "Pan Bagnat                                                   0.360917   \n",
       "Chicken Salad with Green Goddess Dressing                    0.596815   \n",
       "Dad's Caesar Salad                                           0.544243   \n",
       "Striped Bass with Toasted-Shallot Vinaigrette a...           0.431404   \n",
       "\n",
       "                                                    Chickpea Frittata Breakfast Sandwich  \n",
       "recipe_name                                                                               \n",
       "Mustard Greens, Shrimp, And Anchovy Pasta                                       0.563435  \n",
       "Pan Bagnat                                                                      0.636828  \n",
       "Chicken Salad with Green Goddess Dressing                                       0.831359  \n",
       "Dad's Caesar Salad                                                              0.592949  \n",
       "Striped Bass with Toasted-Shallot Vinaigrette a...                              0.647556  \n",
       "\n",
       "[5 rows x 3389 columns]"
      ]
     },
     "execution_count": 1,
     "metadata": {},
     "output_type": "execute_result"
    }
   ],
   "source": [
    "import pandas as pd\n",
    "\n",
    "df = pd.read_csv('cosine_sim.csv', index_col = 0)\n",
    "df.head()"
   ]
  },
  {
   "cell_type": "markdown",
   "metadata": {},
   "source": [
    "## randomly return 1 of top 50 similar dish"
   ]
  },
  {
   "cell_type": "code",
   "execution_count": 2,
   "metadata": {},
   "outputs": [],
   "source": [
    "prompt_recipe = 'Spiralized Greek Cucumber Salad with Lemon and Feta'"
   ]
  },
  {
   "cell_type": "code",
   "execution_count": 3,
   "metadata": {},
   "outputs": [
    {
     "data": {
      "text/plain": [
       "Index(['Mini Veal Meatballs with Caramelized Onions', 'Pork Fried Rice',\n",
       "       'Blueberry Muffin Power Poppers',\n",
       "       'Easy Brisket with Caramelized Onions', 'Classic Shrimp Scampi',\n",
       "       'Rajas Poblanas', 'Smoked Salmon Tea Sandwich',\n",
       "       'Quick Rotini with Sausage and Tomato Sauce',\n",
       "       'Pineapple Salsa: A Creative Alternative',\n",
       "       'Giant Ginger Molasses Cookies', 'Make Your Own Deli-Style Roast Beef',\n",
       "       'Balsamic Chicken Thighs',\n",
       "       'Frisée and Wild Mushroom Salad with Poached Egg',\n",
       "       'Linguine with Green Olive Sauce and Zesty Breadcrumbs',\n",
       "       'Baked Eggs in Bread Baskets',\n",
       "       'Ultra Mexican Pico de Gallo Salsa  gluten free, keto & vegan',\n",
       "       'Heirloom Tomato and Nectarine Salad',\n",
       "       'Roasted Carrots with Herbed Yogurt Sauce',\n",
       "       'Baked Buffalo Chicken Taquitos', 'Crab and Heirloom Tomato Salad',\n",
       "       'Spiralized Greek Cucumber Salad with Lemon and Feta',\n",
       "       'Jamie's Old-Fashioned Ginger Crinkle Cookies',\n",
       "       'Mediterranean Chicken Soup', 'Keto Eggplant Rollatini with Spinach',\n",
       "       'Leek, Potato, and Bacon Casserole',\n",
       "       'Halibut Fish Tacos with Cilantro Savoy Slaw',\n",
       "       'Fig and Chile-Glazed Pork Tenderloin',\n",
       "       'Caramel Corn With Peanuts, Pistachios, And Coconut',\n",
       "       'No Knead Challah Bread', 'Cherry Pie Bars', 'Mexican Chili with Orzo',\n",
       "       'Roasted Pork with Sage, Rosemary, and Garlic',\n",
       "       'Mint Chip Ice Cream Cake', 'Mayo-Free Green Goddess Dressing',\n",
       "       'Caramel Churro Cupcakes', 'Creamy Mashed Cauliflower Colcannon',\n",
       "       'Shrimp Scampi Dip', 'Cedar Plank Grilled Loup De Mer (sea Bass)',\n",
       "       'Banana Muffins with Dark Chocolate', 'Creamy Cilantro-Lime Chicken',\n",
       "       'Malted Milk Funfetti Blondies', 'smitten kitchen',\n",
       "       'Bulgur Wheat Pancakes', 'Keto chicken and cabbage plate', 'Yakisoba',\n",
       "       'Italian Cabbage & Bean Soup', 'Unstuffed Cabbage Roll',\n",
       "       'Shrimp Fried Rice with Edamame', 'Traditional Bread Stuffing',\n",
       "       'Mini Breakfast Sausage, Bell Pepper and Scallion Casseroles'],\n",
       "      dtype='object', name='recipe_name')"
      ]
     },
     "execution_count": 3,
     "metadata": {},
     "output_type": "execute_result"
    }
   ],
   "source": [
    "top_recipe = df[prompt_recipe].sort_values()[:50].index\n",
    "top_recipe"
   ]
  },
  {
   "cell_type": "code",
   "execution_count": 5,
   "metadata": {},
   "outputs": [
    {
     "data": {
      "text/plain": [
       "'Banana Muffins with Dark Chocolate'"
      ]
     },
     "execution_count": 5,
     "metadata": {},
     "output_type": "execute_result"
    }
   ],
   "source": [
    "import random\n",
    "random.choice(top_recipe)"
   ]
  },
  {
   "cell_type": "code",
   "execution_count": 6,
   "metadata": {},
   "outputs": [],
   "source": [
    "# extract all relevant information from DB\n",
    "import mysql.connector\n",
    "db = mysql.connector.connect(host='localhost',user='root',password='root', database='food_recommendation')"
   ]
  },
  {
   "cell_type": "markdown",
   "metadata": {},
   "source": [
    "### recipe_id"
   ]
  },
  {
   "cell_type": "code",
   "execution_count": 7,
   "metadata": {},
   "outputs": [],
   "source": [
    "# get recipe id\n",
    "c = db.cursor()\n",
    "c.execute(\"\"\"\n",
    "SELECT recipe_id\n",
    "FROM recipe\n",
    "WHERE recipe_name = \n",
    "\"\"\" + \"'\" + prompt_recipe + \"'\")\n",
    "\n",
    "for i in c:\n",
    "    recipe_id = i[0]"
   ]
  },
  {
   "cell_type": "markdown",
   "metadata": {},
   "source": [
    "### recipe info"
   ]
  },
  {
   "cell_type": "code",
   "execution_count": 8,
   "metadata": {},
   "outputs": [],
   "source": [
    "c = db.cursor()\n",
    "c.execute(\"\"\"\n",
    "SELECT recipe_url, aggregateLikes, healthyScore, readyin_minutes, calories, Fat, Carbohydrates, Sugar, protein\n",
    "FROM recipe\n",
    "WHERE recipe_name = \n",
    "\n",
    "\"\"\" + \"'\" + prompt_recipe + \"'\")"
   ]
  },
  {
   "cell_type": "code",
   "execution_count": 10,
   "metadata": {},
   "outputs": [
    {
     "data": {
      "text/plain": [
       "('https://spoonacular.com/recipeImages/979019-556x370.jpg',\n",
       " 38824,\n",
       " 12,\n",
       " 20,\n",
       " 203,\n",
       " 16,\n",
       " 12,\n",
       " 5,\n",
       " None)"
      ]
     },
     "execution_count": 10,
     "metadata": {},
     "output_type": "execute_result"
    }
   ],
   "source": [
    "for i in c:\n",
    "    info = i\n",
    "info"
   ]
  },
  {
   "cell_type": "markdown",
   "metadata": {},
   "source": [
    "### recipe diet"
   ]
  },
  {
   "cell_type": "code",
   "execution_count": 11,
   "metadata": {},
   "outputs": [],
   "source": [
    "## get recipe diet\n",
    "c = db.cursor()\n",
    "c.execute(\"\"\"\n",
    "SELECT rd.diet_id, d.diet_name\n",
    "FROM recipe_diet rd\n",
    "JOIN diet d\n",
    "ON rd.diet_id = d.diet_id\n",
    "WHERE rd.recipe_id = \n",
    "\"\"\" + str(recipe_id))"
   ]
  },
  {
   "cell_type": "code",
   "execution_count": 12,
   "metadata": {},
   "outputs": [
    {
     "data": {
      "text/plain": [
       "['gluten free', 'primal', 'lacto ovo vegetarian']"
      ]
     },
     "execution_count": 12,
     "metadata": {},
     "output_type": "execute_result"
    }
   ],
   "source": [
    "diet = []\n",
    "\n",
    "for i in c:\n",
    "    diet.append(i[1])\n",
    "\n",
    "diet"
   ]
  },
  {
   "cell_type": "markdown",
   "metadata": {},
   "source": [
    "### recipe_cuisine"
   ]
  },
  {
   "cell_type": "code",
   "execution_count": 13,
   "metadata": {},
   "outputs": [],
   "source": [
    "## get recipe cuisine\n",
    "c = db.cursor()\n",
    "c.execute(\"\"\"\n",
    "SELECT rc.cuisine_id, c.cuisine_name\n",
    "FROM recipe_cuisine rc\n",
    "JOIN cuisine c\n",
    "ON rc.cuisine_id = c.cuisine_id\n",
    "WHERE rc.recipe_id = \n",
    "\"\"\" + str(recipe_id))"
   ]
  },
  {
   "cell_type": "code",
   "execution_count": 14,
   "metadata": {},
   "outputs": [
    {
     "data": {
      "text/plain": [
       "['Mediterranean', 'European', 'Greek']"
      ]
     },
     "execution_count": 14,
     "metadata": {},
     "output_type": "execute_result"
    }
   ],
   "source": [
    "cuisine = []\n",
    "\n",
    "for i in c:\n",
    "    cuisine.append(i[1])\n",
    "\n",
    "cuisine"
   ]
  },
  {
   "cell_type": "markdown",
   "metadata": {},
   "source": [
    "### recipe_dish"
   ]
  },
  {
   "cell_type": "code",
   "execution_count": 15,
   "metadata": {},
   "outputs": [],
   "source": [
    "## get recipe dish\n",
    "c = db.cursor()\n",
    "c.execute(\"\"\"\n",
    "SELECT rd.dish_type_id, d.dish_type_name\n",
    "FROM recipe_dish rd\n",
    "JOIN dish_type d\n",
    "ON rd.dish_type_id = d.dish_type_id\n",
    "WHERE rd.recipe_id = \n",
    "\"\"\" + str(recipe_id))"
   ]
  },
  {
   "cell_type": "code",
   "execution_count": 16,
   "metadata": {},
   "outputs": [
    {
     "data": {
      "text/plain": [
       "['salad']"
      ]
     },
     "execution_count": 16,
     "metadata": {},
     "output_type": "execute_result"
    }
   ],
   "source": [
    "dish = []\n",
    "\n",
    "for i in c:\n",
    "    dish.append(i[1])\n",
    "\n",
    "dish"
   ]
  },
  {
   "cell_type": "markdown",
   "metadata": {},
   "source": [
    "### recipe_ingredients"
   ]
  },
  {
   "cell_type": "code",
   "execution_count": 17,
   "metadata": {},
   "outputs": [],
   "source": [
    "# get recipe ingredients\n",
    "c = db.cursor()\n",
    "c.execute(\"\"\"\n",
    "SELECT ri.ingredient_id, i.ingredient_name, ri.amount, ri.units, ingredient_image_url\n",
    "FROM recipe_ingredients ri\n",
    "JOIN ingredients i\n",
    "ON ri.ingredient_id = i.ingredient_id\n",
    "WHERE ri.recipe_id = \n",
    "\"\"\"+ str(recipe_id))"
   ]
  },
  {
   "cell_type": "code",
   "execution_count": 18,
   "metadata": {},
   "outputs": [
    {
     "data": {
      "text/plain": [
       "[('feta cheese', 28.35, 'grams', 'feta.png'),\n",
       " ('oregano', 0.5, 'teaspoons', 'oregano.jpg'),\n",
       " ('lemon', 0.5, '', 'lemon.png'),\n",
       " ('green bell pepper', 0.25, '', 'green-pepper.jpg'),\n",
       " ('kalamata olives', 5.0, '', 'calamata-or-kalamata-olives.jpg'),\n",
       " ('extra-virgin olive oil', 0.5, 'Tbsps', 'olive-oil.jpg'),\n",
       " ('kosher salt', 1.0, 'serving', 'salt.jpg'),\n",
       " ('red onion', 1.0, 'Tbsp', 'red-onion.png'),\n",
       " ('grape tomatoes', 78.863, 'milliliters', 'cherry-tomatoes.png')]"
      ]
     },
     "execution_count": 18,
     "metadata": {},
     "output_type": "execute_result"
    }
   ],
   "source": [
    "ingredients = []\n",
    "\n",
    "for i in c:\n",
    "    ingredients.append((i[1], i[2], i[3], i[4]))\n",
    "ingredients"
   ]
  },
  {
   "cell_type": "markdown",
   "metadata": {},
   "source": [
    "https://spoonacular.com/cdn/ingredients_100x100/apple.jpg"
   ]
  },
  {
   "cell_type": "markdown",
   "metadata": {},
   "source": [
    "### recipe instructions"
   ]
  },
  {
   "cell_type": "code",
   "execution_count": 19,
   "metadata": {},
   "outputs": [],
   "source": [
    "# get recipe instructions\n",
    "c = db.cursor()\n",
    "c.execute(\"\"\"\n",
    "SELECT steps_no, steps_description\n",
    "FROM recipe_instructions ri\n",
    "WHERE ri.recipe_id = \n",
    "\n",
    "\"\"\" + str(recipe_id))"
   ]
  },
  {
   "cell_type": "code",
   "execution_count": 20,
   "metadata": {},
   "outputs": [
    {
     "data": {
      "text/plain": [
       "[(1,\n",
       "  'Spiralize the cucumbers using the chipper blade on the Paderno spiralizer.'),\n",
       " (2,\n",
       "  'Cut the strands into smaller pieces, about 5-6 inches long so its easier to eat. If you dont have a spiralizer, you can just dice the cucumbers with a knife into small cubes.'),\n",
       " (3,\n",
       "  'Place the cucumber in a large work bowl along with the bell pepper, tomatoes, olives and red onion.'),\n",
       " (4,\n",
       "  'Squeeze half of the lemon over it, drizzle with half of the olive oil and toss with fresh oregano, salt and pepper.'),\n",
       " (5,\n",
       "  'Place on a plate, top with a slice of feta and finish with remaining olive oil.')]"
      ]
     },
     "execution_count": 20,
     "metadata": {},
     "output_type": "execute_result"
    }
   ],
   "source": [
    "instructions = []\n",
    "for i in c:\n",
    "    instructions.append(i)\n",
    "instructions"
   ]
  },
  {
   "cell_type": "markdown",
   "metadata": {},
   "source": [
    "# Put into Json"
   ]
  },
  {
   "cell_type": "code",
   "execution_count": 21,
   "metadata": {},
   "outputs": [],
   "source": [
    "data = {}\n",
    "data['recipe'] = {}\n",
    "data['recipe']['id'] = recipe_id\n",
    "data['recipe']['name'] = prompt_recipe\n",
    "data['recipe']['url'] = info[0]\n",
    "data['recipe']['likes'] = info[1]\n",
    "data['recipe']['healthy'] = info[2]\n",
    "data['recipe']['minute'] = info[3]\n",
    "data['nutrition'] = {}\n",
    "data['nutrition']['calories'] = info[4]\n",
    "data['nutrition']['fat'] = info[5]\n",
    "data['nutrition']['carbohydrate'] = info[6]\n",
    "data['nutrition']['sugar'] = info[7]\n",
    "data['nutrition']['protein'] = info[8]\n",
    "data['diet'] = []\n",
    "\n",
    "for d in diet:\n",
    "    data['diet'].append(d)\n",
    "data['cuisine'] = []\n",
    "\n",
    "for c in cuisine:\n",
    "    data['cuisine'].append(c)\n",
    "\n",
    "data['dish'] = []\n",
    "\n",
    "for d in dish:\n",
    "    data['dish'].append(d)\n",
    "    \n",
    "data['ingredients'] = []\n",
    "\n",
    "for i in ingredients:\n",
    "    temp = {}\n",
    "    temp['name'] = i[0]\n",
    "    temp['amount'] = i[1]\n",
    "    temp['unit'] = i[2]\n",
    "    temp['image'] = 'https://spoonacular.com/cdn/ingredients_100x100/'+i[3]\n",
    "    data['ingredients'].append(temp)\n",
    "\n",
    "data['instructions'] = []\n",
    "\n",
    "for i in instructions:\n",
    "    temp = {}\n",
    "    temp['step'] = i[0]\n",
    "    temp['description'] = i[1]\n",
    "    data['instructions'].append(temp)"
   ]
  },
  {
   "cell_type": "code",
   "execution_count": 22,
   "metadata": {},
   "outputs": [
    {
     "data": {
      "text/plain": [
       "{'recipe': {'id': 979019,\n",
       "  'name': 'Spiralized Greek Cucumber Salad with Lemon and Feta',\n",
       "  'url': 'https://spoonacular.com/recipeImages/979019-556x370.jpg',\n",
       "  'likes': 38824,\n",
       "  'healthy': 12,\n",
       "  'minute': 20},\n",
       " 'nutrition': {'calories': 203,\n",
       "  'fat': 16,\n",
       "  'carbohydrate': 12,\n",
       "  'sugar': 5,\n",
       "  'protein': None},\n",
       " 'diet': ['gluten free', 'primal', 'lacto ovo vegetarian'],\n",
       " 'cuisine': ['Mediterranean', 'European', 'Greek'],\n",
       " 'dish': ['salad'],\n",
       " 'ingredients': [{'name': 'feta cheese',\n",
       "   'amount': 28.35,\n",
       "   'unit': 'grams',\n",
       "   'image': 'https://spoonacular.com/cdn/ingredients_100x100/feta.png'},\n",
       "  {'name': 'oregano',\n",
       "   'amount': 0.5,\n",
       "   'unit': 'teaspoons',\n",
       "   'image': 'https://spoonacular.com/cdn/ingredients_100x100/oregano.jpg'},\n",
       "  {'name': 'lemon',\n",
       "   'amount': 0.5,\n",
       "   'unit': '',\n",
       "   'image': 'https://spoonacular.com/cdn/ingredients_100x100/lemon.png'},\n",
       "  {'name': 'green bell pepper',\n",
       "   'amount': 0.25,\n",
       "   'unit': '',\n",
       "   'image': 'https://spoonacular.com/cdn/ingredients_100x100/green-pepper.jpg'},\n",
       "  {'name': 'kalamata olives',\n",
       "   'amount': 5.0,\n",
       "   'unit': '',\n",
       "   'image': 'https://spoonacular.com/cdn/ingredients_100x100/calamata-or-kalamata-olives.jpg'},\n",
       "  {'name': 'extra-virgin olive oil',\n",
       "   'amount': 0.5,\n",
       "   'unit': 'Tbsps',\n",
       "   'image': 'https://spoonacular.com/cdn/ingredients_100x100/olive-oil.jpg'},\n",
       "  {'name': 'kosher salt',\n",
       "   'amount': 1.0,\n",
       "   'unit': 'serving',\n",
       "   'image': 'https://spoonacular.com/cdn/ingredients_100x100/salt.jpg'},\n",
       "  {'name': 'red onion',\n",
       "   'amount': 1.0,\n",
       "   'unit': 'Tbsp',\n",
       "   'image': 'https://spoonacular.com/cdn/ingredients_100x100/red-onion.png'},\n",
       "  {'name': 'grape tomatoes',\n",
       "   'amount': 78.863,\n",
       "   'unit': 'milliliters',\n",
       "   'image': 'https://spoonacular.com/cdn/ingredients_100x100/cherry-tomatoes.png'}],\n",
       " 'instructions': [{'step': 1,\n",
       "   'description': 'Spiralize the cucumbers using the chipper blade on the Paderno spiralizer.'},\n",
       "  {'step': 2,\n",
       "   'description': 'Cut the strands into smaller pieces, about 5-6 inches long so its easier to eat. If you dont have a spiralizer, you can just dice the cucumbers with a knife into small cubes.'},\n",
       "  {'step': 3,\n",
       "   'description': 'Place the cucumber in a large work bowl along with the bell pepper, tomatoes, olives and red onion.'},\n",
       "  {'step': 4,\n",
       "   'description': 'Squeeze half of the lemon over it, drizzle with half of the olive oil and toss with fresh oregano, salt and pepper.'},\n",
       "  {'step': 5,\n",
       "   'description': 'Place on a plate, top with a slice of feta and finish with remaining olive oil.'}]}"
      ]
     },
     "execution_count": 22,
     "metadata": {},
     "output_type": "execute_result"
    }
   ],
   "source": [
    "data"
   ]
  },
  {
   "cell_type": "code",
   "execution_count": 24,
   "metadata": {},
   "outputs": [
    {
     "name": "stdout",
     "output_type": "stream",
     "text": [
      "{\"recipe\": {\"id\": 979019, \"name\": \"Spiralized Greek Cucumber Salad with Lemon and Feta\", \"url\": \"https://spoonacular.com/recipeImages/979019-556x370.jpg\", \"likes\": 38824, \"healthy\": 12, \"minute\": 20}, \"nutrition\": {\"calories\": 203, \"fat\": 16, \"carbohydrate\": 12, \"sugar\": 5, \"protein\": null}, \"diet\": [\"gluten free\", \"primal\", \"lacto ovo vegetarian\"], \"cuisine\": [\"Mediterranean\", \"European\", \"Greek\"], \"dish\": [\"salad\"], \"ingredients\": [{\"name\": \"feta cheese\", \"amount\": 28.35, \"unit\": \"grams\", \"image\": \"https://spoonacular.com/cdn/ingredients_100x100/feta.png\"}, {\"name\": \"oregano\", \"amount\": 0.5, \"unit\": \"teaspoons\", \"image\": \"https://spoonacular.com/cdn/ingredients_100x100/oregano.jpg\"}, {\"name\": \"lemon\", \"amount\": 0.5, \"unit\": \"\", \"image\": \"https://spoonacular.com/cdn/ingredients_100x100/lemon.png\"}, {\"name\": \"green bell pepper\", \"amount\": 0.25, \"unit\": \"\", \"image\": \"https://spoonacular.com/cdn/ingredients_100x100/green-pepper.jpg\"}, {\"name\": \"kalamata olives\", \"amount\": 5.0, \"unit\": \"\", \"image\": \"https://spoonacular.com/cdn/ingredients_100x100/calamata-or-kalamata-olives.jpg\"}, {\"name\": \"extra-virgin olive oil\", \"amount\": 0.5, \"unit\": \"Tbsps\", \"image\": \"https://spoonacular.com/cdn/ingredients_100x100/olive-oil.jpg\"}, {\"name\": \"kosher salt\", \"amount\": 1.0, \"unit\": \"serving\", \"image\": \"https://spoonacular.com/cdn/ingredients_100x100/salt.jpg\"}, {\"name\": \"red onion\", \"amount\": 1.0, \"unit\": \"Tbsp\", \"image\": \"https://spoonacular.com/cdn/ingredients_100x100/red-onion.png\"}, {\"name\": \"grape tomatoes\", \"amount\": 78.863, \"unit\": \"milliliters\", \"image\": \"https://spoonacular.com/cdn/ingredients_100x100/cherry-tomatoes.png\"}], \"instructions\": [{\"step\": 1, \"description\": \"Spiralize the cucumbers using the chipper blade on the Paderno spiralizer.\"}, {\"step\": 2, \"description\": \"Cut the strands into smaller pieces, about 5-6 inches long so its easier to eat. If you dont have a spiralizer, you can just dice the cucumbers with a knife into small cubes.\"}, {\"step\": 3, \"description\": \"Place the cucumber in a large work bowl along with the bell pepper, tomatoes, olives and red onion.\"}, {\"step\": 4, \"description\": \"Squeeze half of the lemon over it, drizzle with half of the olive oil and toss with fresh oregano, salt and pepper.\"}, {\"step\": 5, \"description\": \"Place on a plate, top with a slice of feta and finish with remaining olive oil.\"}]}\n"
     ]
    }
   ],
   "source": [
    "import json\n",
    "\n",
    "# with open('data.txt', 'w') as out:\n",
    "#     json.dump(data, out)\n",
    "print(json.dumps(data))"
   ]
  }
 ],
 "metadata": {
  "kernelspec": {
   "display_name": "Python 3",
   "language": "python",
   "name": "python3"
  },
  "language_info": {
   "codemirror_mode": {
    "name": "ipython",
    "version": 3
   },
   "file_extension": ".py",
   "mimetype": "text/x-python",
   "name": "python",
   "nbconvert_exporter": "python",
   "pygments_lexer": "ipython3",
   "version": "3.7.6"
  }
 },
 "nbformat": 4,
 "nbformat_minor": 4
}
